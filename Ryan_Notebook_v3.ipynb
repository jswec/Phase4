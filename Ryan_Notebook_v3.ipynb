{
 "cells": [
  {
   "cell_type": "markdown",
   "metadata": {},
   "source": [
    "# **NLP Over a SXSW Twitter Data Set**"
   ]
  },
  {
   "cell_type": "markdown",
   "metadata": {},
   "source": [
    "## Package and Data Import"
   ]
  },
  {
   "cell_type": "markdown",
   "metadata": {},
   "source": [
    "*Package Imports*"
   ]
  },
  {
   "cell_type": "code",
   "execution_count": 1,
   "metadata": {},
   "outputs": [
    {
     "name": "stderr",
     "output_type": "stream",
     "text": [
      "[nltk_data] Downloading package wordnet to\n",
      "[nltk_data]     C:\\Users\\moore\\AppData\\Roaming\\nltk_data...\n",
      "[nltk_data]   Package wordnet is already up-to-date!\n",
      "[nltk_data] Downloading package vader_lexicon to\n",
      "[nltk_data]     C:\\Users\\moore\\AppData\\Roaming\\nltk_data...\n",
      "[nltk_data]   Package vader_lexicon is already up-to-date!\n"
     ]
    }
   ],
   "source": [
    "### Packages to Import\n",
    "import pandas as pd\n",
    "import numpy as np\n",
    "import matplotlib.pyplot as plt\n",
    "import seaborn as sns\n",
    "import nltk\n",
    "import re\n",
    "from nltk.tokenize import TweetTokenizer\n",
    "from nltk.corpus import stopwords, wordnet\n",
    "from nltk import pos_tag\n",
    "from nltk.stem import WordNetLemmatizer\n",
    "from sklearn.model_selection import train_test_split, cross_val_score\n",
    "from sklearn.tree import DecisionTreeClassifier\n",
    "from sklearn.ensemble import RandomForestClassifier\n",
    "from imblearn.pipeline import Pipeline as imbpipeline\n",
    "from sklearn.compose import ColumnTransformer\n",
    "from sklearn.preprocessing import OneHotEncoder\n",
    "from sklearn.linear_model import LogisticRegression\n",
    "from imblearn.over_sampling import SMOTE\n",
    "from sklearn.naive_bayes import MultinomialNB\n",
    "from sklearn.feature_extraction.text import CountVectorizer, TfidfVectorizer\n",
    "from sklearn.model_selection import GridSearchCV\n",
    "from nltk.sentiment.vader import SentimentIntensityAnalyzer\n",
    "from sklearn.compose import ColumnTransformer\n",
    "from sklearn.metrics import ConfusionMatrixDisplay, confusion_matrix, classification_report, plot_confusion_matrix, accuracy_score, f1_score, recall_score, precision_score\n",
    "from sklearn.svm import SVC\n",
    "from nltk.tokenize import RegexpTokenizer\n",
    "from collections import Counter\n",
    "from wordcloud import WordCloud\n",
    "import warnings\n",
    "nltk.download('wordnet')\n",
    "nltk.download('vader_lexicon')\n",
    "\n",
    "pd.set_option('display.max_colwidth', None)"
   ]
  },
  {
   "cell_type": "markdown",
   "metadata": {},
   "source": [
    "*Importing CSV File*"
   ]
  },
  {
   "cell_type": "code",
   "execution_count": 2,
   "metadata": {},
   "outputs": [],
   "source": [
    "### Import Data and Change Column Names\n",
    "\n",
    "df = pd.read_csv(\"data/tweets.csv\")\n",
    "df.columns = ['text', 'device', 'emotion']"
   ]
  },
  {
   "cell_type": "markdown",
   "metadata": {},
   "source": [
    "## Pre-Data Cleaning Column Addition"
   ]
  },
  {
   "attachments": {},
   "cell_type": "markdown",
   "metadata": {},
   "source": [
    "**Create column that counts the amount of mentions in a tweet**"
   ]
  },
  {
   "cell_type": "code",
   "execution_count": 3,
   "metadata": {},
   "outputs": [],
   "source": [
    "### Creating a column that counts the amount of mentions in each tweet\n",
    "\n",
    "df['mentions'] = df.text.str.count('@')"
   ]
  },
  {
   "attachments": {},
   "cell_type": "markdown",
   "metadata": {},
   "source": [
    "**Create a column that counts the amount of links in a tweet**\n",
    "\n",
    "*We are also considering anything with '.com', 'http', 'bit.ly', '.co', and '{link}' as a link*"
   ]
  },
  {
   "cell_type": "code",
   "execution_count": 4,
   "metadata": {
    "scrolled": true
   },
   "outputs": [],
   "source": [
    "df['links'] = 0\n",
    "\n",
    "url_like_strings = ['{link}', '.com', 'http', 'bit.ly', '.co']\n",
    "for s in url_like_strings:\n",
    "    df['links'] = df.links + list(map(lambda x: str(x).count(s), df['text']))"
   ]
  },
  {
   "cell_type": "markdown",
   "metadata": {},
   "source": [
    "## Data Cleaning"
   ]
  },
  {
   "cell_type": "markdown",
   "metadata": {},
   "source": [
    "**Dropping non-significant values and rows**"
   ]
  },
  {
   "cell_type": "code",
   "execution_count": 5,
   "metadata": {},
   "outputs": [],
   "source": [
    "### Dropping 'I can't tell' and 'Other' rows\n",
    "\n",
    "df = df[df['emotion'] != \"I can't tell\"]\n",
    "\n",
    "### Dropping blank 'text' rows\n",
    "\n",
    "df = df.dropna(subset=['text'])"
   ]
  },
  {
   "cell_type": "markdown",
   "metadata": {},
   "source": [
    "**Creating functions that clean the text data**"
   ]
  },
  {
   "cell_type": "code",
   "execution_count": 6,
   "metadata": {},
   "outputs": [],
   "source": [
    "### Creating a function that makes all text lowercase for further analysis\n",
    "\n",
    "def lower_case(text):\n",
    "    text = text.lower()\n",
    "    return text\n",
    "\n",
    "### Creating a function that removes the use of via in the context of via hashtag or via mention (removes 80% of vias)\n",
    "\n",
    "def remove_via(text):\n",
    "    \n",
    "    if 'via @' in text or 'via #' in text:\n",
    "        text = text.replace('via', '')\n",
    "    return text\n",
    "    \n",
    "### Creating a function that removes errant html syntax from the tweet (e.g. &amp; and &quot;)\n",
    "\n",
    "def remove_html(text):\n",
    "    \n",
    "    text = text.replace('&amp;', '')\n",
    "    text = text.replace('&quot;', '')\n",
    "    return text\n",
    "\n",
    "### Creating a function that removes urls or instances of '{link}' from the tweet\n",
    "\n",
    "def remove_url(text):\n",
    "    \n",
    "    url_like_strings = ['{link}', '.com', 'http', 'bit.ly', '.co']\n",
    "    text = text.split()\n",
    "    for s in url_like_strings:\n",
    "        text = [word for word in text if s not in word]\n",
    "    text = ' '.join(text)\n",
    "    return text\n",
    "\n",
    "### Creating a function that removes words that contain a @ and rt (retweet) \n",
    "### as mentions would not be important in determining the emotion of a tweet\n",
    "\n",
    "def remove_at_and_rt(text):\n",
    "    text = text.split()\n",
    "    text = [word for word in text if '@' not in word]\n",
    "    text = [word for word in text if word != 'rt']\n",
    "    text = ' '.join(text)\n",
    "    return text\n",
    "\n",
    "### Creating a function that removes '#SXSW' of any case type from the text\n",
    "\n",
    "def remove_sxsw(text):\n",
    "    text = text.split()\n",
    "    text = [word for word in text if '#sxsw' not in word]\n",
    "    text = ' '.join(text)\n",
    "    return text\n",
    "\n",
    "### Creating a function that uses a regex tokenizer to remove punctuation but ignores contraction apostrophes\n",
    "\n",
    "def remove_punctuation(text):\n",
    "    tokenizer = RegexpTokenizer(r'\\w+\\'?\\w+')\n",
    "    text = tokenizer.tokenize(text)\n",
    "    text = ' '.join(text)\n",
    "    return text\n",
    "\n",
    "### Creating a function that removes stopwords from a specified list of stopwords\n",
    "\n",
    "custom_stop_words = ['in','of','at','a','the']\n",
    "\n",
    "def remove_stopwords(text, stop_words_list = set(stopwords.words('english'))):\n",
    "    text = text.split()\n",
    "    text = [word for word in text if word not in stop_words_list]\n",
    "    text = ' '.join(text)\n",
    "    return text\n",
    "\n",
    "### Creating a function that removes non-ASCII characters\n",
    "\n",
    "def remove_characters(text):\n",
    "    text = text.encode('ascii', 'ignore').decode('ascii')\n",
    "    return text\n",
    "\n",
    "### Creating a function that lemmatizes words\n",
    "\n",
    "def lemmatize(text):\n",
    "    lemmatizer = WordNetLemmatizer()\n",
    "    text = text.split()\n",
    "    text = [lemmatizer.lemmatize(word) for word in text]\n",
    "    text = ' '.join(text)\n",
    "    return text\n",
    "\n",
    "### Creating a function that combines all of the above functions\n",
    "\n",
    "def clean_text(text):\n",
    "    text = lower_case(text)\n",
    "    text = remove_via(text)\n",
    "    text = remove_html(text)\n",
    "    text = remove_url(text)\n",
    "    text = remove_at_and_rt(text)\n",
    "    text = remove_sxsw(text)\n",
    "    text = remove_punctuation(text)\n",
    "    text = remove_stopwords(text)\n",
    "    text = remove_characters(text)\n",
    "    text = lemmatize(text)\n",
    "    return text"
   ]
  },
  {
   "cell_type": "code",
   "execution_count": 7,
   "metadata": {},
   "outputs": [
    {
     "name": "stdout",
     "output_type": "stream",
     "text": [
      "&quot;via @mention : {link} Guy Kawasaki talks 'Enchanted' at SXSW - HE knows his stuff! #books #internet #Apple #sxsw  &quot;\n",
      "guy kawasaki talk enchanted sxsw know stuff book internet apple\n"
     ]
    }
   ],
   "source": [
    "### Example of before and after cleaning\n",
    "\n",
    "print(df.text[60])\n",
    "print(clean_text(df['text'][60]))"
   ]
  },
  {
   "cell_type": "code",
   "execution_count": 8,
   "metadata": {},
   "outputs": [],
   "source": [
    "### Applying the clean_text function to the 'text' column and creating a santiy check csv\n",
    "\n",
    "df_clean = df.copy()\n",
    "df_clean['text'] = df_clean['text'].apply(clean_text)\n",
    "df_clean.to_csv('data/cleaned_tweets.csv')"
   ]
  },
  {
   "cell_type": "markdown",
   "metadata": {},
   "source": [
    "## Feature Engineering"
   ]
  },
  {
   "cell_type": "markdown",
   "metadata": {},
   "source": [
    "**Creating 'device_type'**"
   ]
  },
  {
   "cell_type": "code",
   "execution_count": 9,
   "metadata": {},
   "outputs": [],
   "source": [
    "### Deliniating between Google and Apple\n",
    "\n",
    "google_tweets = ['Google', 'Other Google product or service', 'Andriod App', 'Andriod']\n",
    "apple_tweets = ['Apple', 'Other Apple product or service', 'Apple App', 'iPhone', 'iPad', 'iPad or iPhone App']\n",
    "\n",
    "### Creating a new column for google vs. apple vs. unknown\n",
    "\n",
    "df['device_type'] = np.where(df['device'].isin(google_tweets), 'Google', \n",
    "                    np.where(df['device'].isin(apple_tweets), 'Apple', \n",
    "                             'Unknown'))"
   ]
  },
  {
   "cell_type": "markdown",
   "metadata": {},
   "source": [
    "**Approximating 'Company' Values based off of 'text' and 'device_type'**"
   ]
  },
  {
   "cell_type": "code",
   "execution_count": 10,
   "metadata": {},
   "outputs": [],
   "source": [
    "### Creating a new column for 'Google' and 'Apple' based on device type and key words in the 'text' column\n",
    "\n",
    "google_key_words = [\"Google\", \"Android\", \"Pixel\", \"Circles\", \"Droid\", \"Galaxy S\", \"Realtime\", \"Maps\", \"Google Maps\", \"Circle\" ]\n",
    "\n",
    "apple_key_words = [\"Apple\", \"iPhone\", \"iPad\", \"Mac\", \"iMac\", \"iPod\", \"iTunes\", \"iWatch\", \"iMessage\", \"iCloud\", \"iBook\", \"iMac\", \n",
    "                   \"app_store\", \"app store\", \"ios\", \"ios4\", \"ios4.1\", \"ios4.2\", \"iphone app\", \"3g\", \"ios\"]\n",
    "                  \n",
    "df['Google'] = np.where(df['device_type'] == 'Google', True, \n",
    "               np.where(df['text'].str.lower().str.contains('|'.join(google_key_words), case=False), True, \n",
    "               False))\n",
    "\n",
    "df['Apple'] = np.where(df['device_type'] == 'Apple', True,\n",
    "              np.where(df['text'].str.lower().str.contains('|'.join(apple_key_words), case=False), True,\n",
    "              False))\n",
    "\n",
    "### Create new column 'both' that is true if both Google and Apple are true\n",
    "\n",
    "df['both'] = np.where((df['Google'] == True) & (df['Apple'] == True), True, False)\n",
    "\n",
    "### Dropping rows where both Google and Apple are true and where Google and Apple are both false\n",
    "\n",
    "df = df[df['both'] == False]\n",
    "df = df[df['Google'] != df['Apple']]\n",
    "df = df.drop(columns=['both'])\n"
   ]
  },
  {
   "cell_type": "markdown",
   "metadata": {},
   "source": [
    "**Establishing a VADER Sentiment Score**"
   ]
  },
  {
   "cell_type": "code",
   "execution_count": 11,
   "metadata": {},
   "outputs": [],
   "source": [
    "### Creating new columns in the dataframe which append 'pos', 'neg', and 'neu' using VADER sentiment analysis\n",
    "\n",
    "sid = SentimentIntensityAnalyzer()\n",
    "df['sentiment'] = df['text'].apply(lambda x: sid.polarity_scores(x))\n",
    "df = pd.concat([df.drop(['sentiment'], axis=1), df['sentiment'].apply(pd.Series)], axis=1)"
   ]
  },
  {
   "attachments": {},
   "cell_type": "markdown",
   "metadata": {},
   "source": [
    "**Creating 'emphasis' columns that score how many exclamation points, question marks, and capital letters are in the text, respectively**"
   ]
  },
  {
   "cell_type": "code",
   "execution_count": 12,
   "metadata": {},
   "outputs": [],
   "source": [
    "### Creating an 'punc_emphasis' column that scores how many exclamation points and question marks are in the text\n",
    "\n",
    "df['punc_emphasis'] = df['text'].apply(lambda x: sum([1 for char in x if char in ['!', '?']]))\n",
    "\n",
    "### Creating a 'capt_emphasis' column that scores how many capitalized words are in the text\n",
    "\n",
    "df['capt_emphasis'] = df['text'].apply(lambda x: sum([1 for word in x.split() if word.isupper()]))"
   ]
  },
  {
   "attachments": {},
   "cell_type": "markdown",
   "metadata": {},
   "source": [
    "## Exploring the Cleaned Data"
   ]
  },
  {
   "cell_type": "code",
   "execution_count": 13,
   "metadata": {},
   "outputs": [
    {
     "data": {
      "image/png": "[encoded data removed]",
      "text/plain": [
       "<Figure size 432x288 with 1 Axes>"
      ]
     },
     "metadata": {
      "needs_background": "light"
     },
     "output_type": "display_data"
    }
   ],
   "source": [
    "### Visualize the distribution of the target variable by device type\n",
    "\n",
    "sns.countplot(x='emotion', hue='device_type', data=df)\n",
    "plt.xlabel('Emotion')\n",
    "plt.xticks(rotation=45)\n",
    "plt.ylabel('Count')\n",
    "plt.title('Distribution of Emotions by Device Type')\n",
    "plt.show()\n"
   ]
  },
  {
   "cell_type": "code",
   "execution_count": 14,
   "metadata": {},
   "outputs": [
    {
     "data": {
      "image/png": "[encoded data removed]",
      "text/plain": [
       "<Figure size 1080x360 with 2 Axes>"
      ]
     },
     "metadata": {
      "needs_background": "light"
     },
     "output_type": "display_data"
    }
   ],
   "source": [
    "### Plot the distribution between the target variable and the emphasis columns, removing 0 values and 'no emotion' values\n",
    "\n",
    "fig, ax = plt.subplots(1, 2, figsize=(15, 5))\n",
    "sns.countplot(x='emotion', hue='punc_emphasis', data=df[(df['punc_emphasis'] != 0) & (df['emotion'] != 'No emotion toward brand or product')], ax=ax[0], palette='muted')\n",
    "sns.countplot(x='emotion', hue='capt_emphasis', data=df[(df['capt_emphasis'] != 0) & (df['emotion'] != 'No emotion toward brand or product')], ax=ax[1], palette='muted')\n",
    "ax[0].set_xlabel('Emotion')\n",
    "ax[0].set_xticklabels(ax[0].get_xticklabels(), rotation=45)\n",
    "ax[0].set_ylabel('Count')\n",
    "ax[0].set_title('Distribution of Emotions by Punctuation Emphasis')\n",
    "ax[1].set_xlabel('Emotion')\n",
    "ax[1].set_xticklabels(ax[1].get_xticklabels(), rotation=45)\n",
    "ax[1].set_ylabel('Count of Tweets')\n",
    "ax[1].set_title('Distribution of Emotions by Capitalization Emphasis')\n",
    "plt.show()\n"
   ]
  },
  {
   "cell_type": "code",
   "execution_count": 15,
   "metadata": {},
   "outputs": [
    {
     "data": {
      "image/png": "[encoded data removed]",
      "text/plain": [
       "<Figure size 432x288 with 1 Axes>"
      ]
     },
     "metadata": {
      "needs_background": "light"
     },
     "output_type": "display_data"
    }
   ],
   "source": [
    "### Plotting the top 10 most common words in the 'text' column in an sns bar chart after applying the clean_text function\n",
    "\n",
    "text = ' '.join(df['text'])\n",
    "text = clean_text(text)\n",
    "text = text.split()\n",
    "\n",
    "freq = pd.Series(text).value_counts()[:10]\n",
    "freq = freq.to_frame()\n",
    "freq = freq.reset_index()\n",
    "freq.columns = ['word', 'count']\n",
    "freq = freq.sort_values(by='count', ascending=False)\n",
    "\n",
    "sns.barplot(x='count', y='word', data=freq, palette='muted')\n",
    "plt.xlabel('Count')\n",
    "plt.ylabel('Word')\n",
    "plt.title('Top 10 Most Common Words in Tweets')\n",
    "plt.show()"
   ]
  },
  {
   "cell_type": "markdown",
   "metadata": {},
   "source": [
    "## Modeling"
   ]
  },
  {
   "cell_type": "markdown",
   "metadata": {},
   "source": [
    "**First Simple Model - Count Vectorizer / Decision Tree / No Features**"
   ]
  },
  {
   "cell_type": "code",
   "execution_count": 16,
   "metadata": {},
   "outputs": [
    {
     "name": "stdout",
     "output_type": "stream",
     "text": [
      "Cross Validation Scores:  [0.66168371 0.63650669 0.63729347 0.63650669 0.63937008]\n",
      "Mean Cross Validation Score:  0.6422721274710843\n"
     ]
    }
   ],
   "source": [
    "### Breaking the data into a singular feature and the target variable\n",
    "\n",
    "X1 = df['text']\n",
    "y1 = df['emotion']\n",
    "\n",
    "### Performing a train test split on the data\n",
    "\n",
    "X_train_1, X_test_1, y_train_1, y_test_1 = train_test_split(X1, y1, test_size=0.2, random_state=1337)\n",
    "\n",
    "### TRAIN - Apply the clean_text function to the training data\n",
    "\n",
    "X_train_1 = X_train_1.apply(clean_text)\n",
    "\n",
    "### TRAIN - Tokenize the training data with a simple split of words, and then flattening to prepare for vectorization\n",
    "\n",
    "X_train_1 = X_train_1.apply(lambda x: x.split())\n",
    "X_train_1 = X_train_1.map(' '.join)\n",
    "\n",
    "### TRAIN - Vectorize the training data using CountVectorizer\n",
    "\n",
    "cv = CountVectorizer()\n",
    "X_train_1 = cv.fit_transform(X_train_1)\n",
    "\n",
    "### TRAIN - Fit the training data to a Decision Tree Classifier\n",
    "\n",
    "dtc = DecisionTreeClassifier()\n",
    "dtc.fit(X_train_1, y_train_1)\n",
    "\n",
    "### VALIDATION - Perform a cross validation on the decision tree classifier\n",
    "\n",
    "scores = cross_val_score(dtc, X_train_1, y_train_1, cv=5)\n",
    "print('Cross Validation Scores: ', scores)\n",
    "print('Mean Cross Validation Score: ', scores.mean())"
   ]
  },
  {
   "attachments": {},
   "cell_type": "markdown",
   "metadata": {},
   "source": [
    "**Second Model - Count Vectorizer / Naive Bayes Model / Added Sentiment and Emphasis Score**"
   ]
  },
  {
   "cell_type": "code",
   "execution_count": 17,
   "metadata": {},
   "outputs": [
    {
     "name": "stdout",
     "output_type": "stream",
     "text": [
      "Cross Validation Scores:  [0.63335956 0.64516129 0.64201416 0.6404406  0.63858268]\n",
      "Mean Cross Validation Score:  0.6399116573842903\n"
     ]
    },
    {
     "name": "stderr",
     "output_type": "stream",
     "text": [
      "<ipython-input-17-15f9e7ab2346>:12: SettingWithCopyWarning: \n",
      "A value is trying to be set on a copy of a slice from a DataFrame.\n",
      "Try using .loc[row_indexer,col_indexer] = value instead\n",
      "\n",
      "See the caveats in the documentation: https://pandas.pydata.org/pandas-docs/stable/user_guide/indexing.html#returning-a-view-versus-a-copy\n",
      "  X_train_2['text'] = X_train_2['text'].apply(clean_text)\n",
      "<ipython-input-17-15f9e7ab2346>:16: SettingWithCopyWarning: \n",
      "A value is trying to be set on a copy of a slice from a DataFrame.\n",
      "Try using .loc[row_indexer,col_indexer] = value instead\n",
      "\n",
      "See the caveats in the documentation: https://pandas.pydata.org/pandas-docs/stable/user_guide/indexing.html#returning-a-view-versus-a-copy\n",
      "  X_train_2['text'] = X_train_2['text'].apply(lambda x: x.split())\n",
      "<ipython-input-17-15f9e7ab2346>:17: SettingWithCopyWarning: \n",
      "A value is trying to be set on a copy of a slice from a DataFrame.\n",
      "Try using .loc[row_indexer,col_indexer] = value instead\n",
      "\n",
      "See the caveats in the documentation: https://pandas.pydata.org/pandas-docs/stable/user_guide/indexing.html#returning-a-view-versus-a-copy\n",
      "  X_train_2['text'] = X_train_2['text'].map(' '.join)\n"
     ]
    }
   ],
   "source": [
    "### Splitting the features into features and the target, including the 'text', sentiment columns, and emphasis columns as features\n",
    "\n",
    "X2 = df[['text', 'punc_emphasis', 'capt_emphasis', 'links', 'mentions']]\n",
    "y2 = df['emotion']\n",
    "\n",
    "### Performing a train test split on the data\n",
    "\n",
    "X_train_2, X_test_2, y_train_2, y_test_2 = train_test_split(X2, y2, test_size=0.2, random_state=1337)\n",
    "\n",
    "### TRAIN - Applying the clean_text function to the training data\n",
    "\n",
    "X_train_2['text'] = X_train_2['text'].apply(clean_text)\n",
    "\n",
    "### TRAIN - Tokenizing the training data with a simple split of words, and then flattening to prepare for vectorization\n",
    "\n",
    "X_train_2['text'] = X_train_2['text'].apply(lambda x: x.split())\n",
    "X_train_2['text'] = X_train_2['text'].map(' '.join)\n",
    "\n",
    "### TRAIN - Vectorizing the training data using a CountVectorizer\n",
    "\n",
    "cv = CountVectorizer()\n",
    "X_train_2 = cv.fit_transform(X_train_2['text'])\n",
    "\n",
    "### TRAIN - Fit the training data to a Naive Bayes Classifier\n",
    "\n",
    "nb = MultinomialNB()\n",
    "nb.fit(X_train_2, y_train_2)\n",
    "\n",
    "### VALIDATION - Perform a cross validation on the Naive Bayes Classifier\n",
    "\n",
    "scores = cross_val_score(nb, X_train_2, y_train_2, cv=5)\n",
    "print('Cross Validation Scores: ', scores)\n",
    "print('Mean Cross Validation Score: ', scores.mean())"
   ]
  },
  {
   "cell_type": "markdown",
   "metadata": {},
   "source": [
    "**Third Model - TDIF Vectorizer / Random Forest / Added sentiment and Emphasis Scores**"
   ]
  },
  {
   "cell_type": "code",
   "execution_count": 18,
   "metadata": {},
   "outputs": [
    {
     "name": "stderr",
     "output_type": "stream",
     "text": [
      "<ipython-input-18-04ff80b9eba2>:12: SettingWithCopyWarning: \n",
      "A value is trying to be set on a copy of a slice from a DataFrame.\n",
      "Try using .loc[row_indexer,col_indexer] = value instead\n",
      "\n",
      "See the caveats in the documentation: https://pandas.pydata.org/pandas-docs/stable/user_guide/indexing.html#returning-a-view-versus-a-copy\n",
      "  X_train_3['text'] = X_train_3['text'].apply(clean_text)\n",
      "<ipython-input-18-04ff80b9eba2>:16: SettingWithCopyWarning: \n",
      "A value is trying to be set on a copy of a slice from a DataFrame.\n",
      "Try using .loc[row_indexer,col_indexer] = value instead\n",
      "\n",
      "See the caveats in the documentation: https://pandas.pydata.org/pandas-docs/stable/user_guide/indexing.html#returning-a-view-versus-a-copy\n",
      "  X_train_3['text'] = X_train_3['text'].apply(lambda x: x.split())\n",
      "<ipython-input-18-04ff80b9eba2>:17: SettingWithCopyWarning: \n",
      "A value is trying to be set on a copy of a slice from a DataFrame.\n",
      "Try using .loc[row_indexer,col_indexer] = value instead\n",
      "\n",
      "See the caveats in the documentation: https://pandas.pydata.org/pandas-docs/stable/user_guide/indexing.html#returning-a-view-versus-a-copy\n",
      "  X_train_3['text'] = X_train_3['text'].map(' '.join)\n"
     ]
    },
    {
     "name": "stdout",
     "output_type": "stream",
     "text": [
      "Cross Validation Scores:  [0.66797797 0.66640441 0.66797797 0.65381589 0.66456693]\n",
      "Mean Cross Validation Score:  0.664148633663121\n"
     ]
    }
   ],
   "source": [
    "### Splitting the features into features and the target, including the 'text', sentiment columns, and emphasis columns as features\n",
    "\n",
    "X2 = df[['text', 'punc_emphasis', 'capt_emphasis', 'links', 'mentions']]\n",
    "y2 = df['emotion']\n",
    "\n",
    "### Performing a train test split on the data\n",
    "\n",
    "X_train_3, X_test_3, y_train_3, y_test_3 = train_test_split(X2, y2, test_size=0.2, random_state=1337)\n",
    "\n",
    "### TRAIN - Applying the clean_text function to the training data\n",
    "\n",
    "X_train_3['text'] = X_train_3['text'].apply(clean_text)\n",
    "\n",
    "### TRAIN - Tokenizing the training data with a simple split of words, and then flattening to prepare for vectorization\n",
    "\n",
    "X_train_3['text'] = X_train_3['text'].apply(lambda x: x.split())\n",
    "X_train_3['text'] = X_train_3['text'].map(' '.join)\n",
    "\n",
    "### TRAIN - Vectorizing the training data using a TD-IDF Vectorizer\n",
    "\n",
    "tfidf = TfidfVectorizer()\n",
    "X_train_3 = tfidf.fit_transform(X_train_3['text'])\n",
    "\n",
    "### TRAIN - Fit the training data to a Random Forest Classifier\n",
    "\n",
    "rfc = RandomForestClassifier()\n",
    "rfc.fit(X_train_3, y_train_3)\n",
    "\n",
    "### VALIDATION - Perform a cross validation on the Random Forest Classifier\n",
    "\n",
    "scores = cross_val_score(rfc, X_train_3, y_train_3, cv=5)\n",
    "print('Cross Validation Scores: ', scores)\n",
    "print('Mean Cross Validation Score: ', scores.mean())\n",
    "\n"
   ]
  },
  {
   "attachments": {},
   "cell_type": "markdown",
   "metadata": {},
   "source": [
    "## Initial Tuning of Hyper Parameters via Grid Search\n",
    "\n",
    "DTC Results = {'max_depth': 25, 'max_features': 'auto', 'min_samples_leaf': 1, 'min_samples_split': 5}\n",
    "NBC Results = {'alpha': 2}\n",
    "RFC Results = {'max_depth': 15, 'max_features': 'sqrt', 'min_samples_leaf': 1, 'min_samples_split': 2, 'n_estimators': 10}"
   ]
  },
  {
   "cell_type": "code",
   "execution_count": 19,
   "metadata": {},
   "outputs": [
    {
     "name": "stdout",
     "output_type": "stream",
     "text": [
      "Best Parameters:  {'max_depth': 25, 'max_features': 'auto', 'min_samples_leaf': 1, 'min_samples_split': 3}\n",
      "Best Parameters:  {'alpha': 2}\n"
     ]
    }
   ],
   "source": [
    "### Performing a grid search on the Decision Tree Classifier\n",
    "\n",
    "param_grid = {'max_depth': [5, 10, 15, 20, 25],\n",
    "                'min_samples_split': [2, 3, 5, 10],\n",
    "                'min_samples_leaf': [1, 4, 8, 10],\n",
    "                'max_features': ['auto', 'sqrt', 'log2']}\n",
    "grid = GridSearchCV(dtc, param_grid, cv=5, scoring='accuracy', n_jobs=-1)\n",
    "grid.fit(X_train_1, y_train_1)\n",
    "print('Best Parameters: ', grid.best_params_)\n",
    "\n",
    "\n",
    "### Performing a grid search on the Naive Bayes Classifier\n",
    "\n",
    "param_grid = {'alpha': [0.1, 0.5, 1, 2, 5, 20, 50]}\n",
    "grid = GridSearchCV(nb, param_grid, cv=5, scoring='accuracy', n_jobs=-1)\n",
    "grid.fit(X_train_2, y_train_2)\n",
    "print('Best Parameters: ', grid.best_params_)\n"
   ]
  },
  {
   "attachments": {},
   "cell_type": "markdown",
   "metadata": {},
   "source": [
    "## Applying Initial Hyper Parameter Tuning to Models and Evaluating Results on Test Set"
   ]
  },
  {
   "attachments": {},
   "cell_type": "markdown",
   "metadata": {},
   "source": [
    "**Applying Hyperparameters**"
   ]
  },
  {
   "cell_type": "code",
   "execution_count": 20,
   "metadata": {},
   "outputs": [
    {
     "data": {
      "text/plain": [
       "RandomForestClassifier(max_depth=15, max_features='sqrt', n_estimators=10)"
      ]
     },
     "execution_count": 20,
     "metadata": {},
     "output_type": "execute_result"
    }
   ],
   "source": [
    "### Applying the hyperparameters from the grid search to the Decision Tree Classifier\n",
    "\n",
    "dtc = DecisionTreeClassifier(max_depth = 25, max_features = 'sqrt', min_samples_leaf = 4, min_samples_split = 10)\n",
    "dtc.fit(X_train_1, y_train_1)\n",
    "\n",
    "### Applying the hyperparameters from the grid search to the Naive Bayes Classifier\n",
    "\n",
    "nb = MultinomialNB(alpha=2)\n",
    "nb.fit(X_train_2, y_train_2)\n",
    "\n",
    "### Applying the hyperparameters from the grid search to the Random Forest Classifier\n",
    "\n",
    "rfc = RandomForestClassifier(max_depth = 15, max_features = 'sqrt', min_samples_leaf = 1, min_samples_split = 2, n_estimators = 10)\n",
    "rfc.fit(X_train_3, y_train_3)"
   ]
  },
  {
   "attachments": {},
   "cell_type": "markdown",
   "metadata": {},
   "source": [
    "**Preprocessing Test Data on each Model**"
   ]
  },
  {
   "cell_type": "code",
   "execution_count": 21,
   "metadata": {},
   "outputs": [
    {
     "name": "stderr",
     "output_type": "stream",
     "text": [
      "<ipython-input-21-a664f117a575>:17: SettingWithCopyWarning: \n",
      "A value is trying to be set on a copy of a slice from a DataFrame.\n",
      "Try using .loc[row_indexer,col_indexer] = value instead\n",
      "\n",
      "See the caveats in the documentation: https://pandas.pydata.org/pandas-docs/stable/user_guide/indexing.html#returning-a-view-versus-a-copy\n",
      "  X_test_3['text'] = X_test_3['text'].apply(clean_text)\n",
      "<ipython-input-21-a664f117a575>:18: SettingWithCopyWarning: \n",
      "A value is trying to be set on a copy of a slice from a DataFrame.\n",
      "Try using .loc[row_indexer,col_indexer] = value instead\n",
      "\n",
      "See the caveats in the documentation: https://pandas.pydata.org/pandas-docs/stable/user_guide/indexing.html#returning-a-view-versus-a-copy\n",
      "  X_test_3['text'] = X_test_3['text'].apply(lambda x: x.split())\n",
      "<ipython-input-21-a664f117a575>:19: SettingWithCopyWarning: \n",
      "A value is trying to be set on a copy of a slice from a DataFrame.\n",
      "Try using .loc[row_indexer,col_indexer] = value instead\n",
      "\n",
      "See the caveats in the documentation: https://pandas.pydata.org/pandas-docs/stable/user_guide/indexing.html#returning-a-view-versus-a-copy\n",
      "  X_test_3['text'] = X_test_3['text'].map(' '.join)\n"
     ]
    }
   ],
   "source": [
    "### Decision Tree Test Set Preprocessing\n",
    "\n",
    "X_test_1 = X_test_1.apply(clean_text)\n",
    "X_test_1 = X_test_1.apply(lambda x: x.split())\n",
    "X_test_1 = X_test_1.map(' '.join)\n",
    "X_test_1 = cv.transform(X_test_1)\n",
    "\n",
    "### Naive Bayes Test Set Preprocessing\n",
    "\n",
    "X_test_2['text'] = X_test_2['text'].apply(clean_text)\n",
    "X_test_2['text'] = X_test_2['text'].apply(lambda x: x.split())\n",
    "X_test_2['text'] = X_test_2['text'].map(' '.join)\n",
    "X_test_2 = cv.transform(X_test_2['text'])\n",
    "\n",
    "### Random Forest Test Set Preprocessing\n",
    "\n",
    "X_test_3['text'] = X_test_3['text'].apply(clean_text)\n",
    "X_test_3['text'] = X_test_3['text'].apply(lambda x: x.split())\n",
    "X_test_3['text'] = X_test_3['text'].map(' '.join)\n",
    "X_test_3 = tfidf.transform(X_test_3['text'])"
   ]
  },
  {
   "attachments": {},
   "cell_type": "markdown",
   "metadata": {},
   "source": [
    "**Running Models on Test Data and Evaluating Results**"
   ]
  },
  {
   "cell_type": "code",
   "execution_count": 22,
   "metadata": {},
   "outputs": [],
   "source": [
    "### Decision Tree Test Set Predictions\n",
    "\n",
    "dtc_pred = dtc.predict(X_test_1)\n",
    "\n",
    "### Naive Bayes Test Set Predictions\n",
    "\n",
    "nb_pred = nb.predict(X_test_2)\n",
    "\n",
    "### Random Forest Test Set Predictions\n",
    "\n",
    "rfc_pred = rfc.predict(X_test_3)"
   ]
  },
  {
   "cell_type": "code",
   "execution_count": 23,
   "metadata": {},
   "outputs": [
    {
     "name": "stdout",
     "output_type": "stream",
     "text": [
      "Decision Tree Accuracy:  0.5953429830081812\n",
      "Decision Tree F1 Score:  0.5298007533620285\n",
      "Decision Tree Precision Score:  0.5861760980361294\n",
      "Decision Tree Recall Score:  0.5953429830081812\n",
      "Naive Bayes Accuracy:  0.644430459408433\n",
      "Naive Bayes F1 Score:  0.6209944648665453\n",
      "Naive Bayes Precision Score:  0.6511829653302442\n",
      "Naive Bayes Recall Score:  0.644430459408433\n",
      "Random Forest Accuracy:  0.5852737570799245\n",
      "Random Forest F1 Score:  0.4672253237597553\n",
      "Random Forest Precision Score:  0.6486554975202891\n",
      "Random Forest Recall Score:  0.5852737570799245\n"
     ]
    }
   ],
   "source": [
    "### Decision Tree Test Set Evaluation\n",
    "\n",
    "print('Decision Tree Accuracy: ', accuracy_score(y_test_1, dtc_pred))\n",
    "print('Decision Tree F1 Score: ', f1_score(y_test_1, dtc_pred, average='weighted'))\n",
    "print('Decision Tree Precision Score: ', precision_score(y_test_1, dtc_pred, average='weighted'))\n",
    "print('Decision Tree Recall Score: ', recall_score(y_test_1, dtc_pred, average='weighted'))\n",
    "\n",
    "### Naive Bayes Test Set Evaluation\n",
    "\n",
    "print('Naive Bayes Accuracy: ', accuracy_score(y_test_2, nb_pred))\n",
    "print('Naive Bayes F1 Score: ', f1_score(y_test_2, nb_pred, average='weighted'))\n",
    "print('Naive Bayes Precision Score: ', precision_score(y_test_2, nb_pred, average='weighted'))\n",
    "print('Naive Bayes Recall Score: ', recall_score(y_test_2, nb_pred, average='weighted'))\n",
    "\n",
    "### Random Forest Test Set Evaluation\n",
    "\n",
    "print('Random Forest Accuracy: ', accuracy_score(y_test_3, rfc_pred))\n",
    "print('Random Forest F1 Score: ', f1_score(y_test_3, rfc_pred, average='weighted'))\n",
    "print('Random Forest Precision Score: ', precision_score(y_test_3, rfc_pred, average='weighted'))\n",
    "print('Random Forest Recall Score: ', recall_score(y_test_3, rfc_pred, average='weighted'))"
   ]
  },
  {
   "cell_type": "code",
   "execution_count": 24,
   "metadata": {},
   "outputs": [
    {
     "data": {
      "image/png": "[encoded data removed]",
      "text/plain": [
       "<Figure size 360x360 with 2 Axes>"
      ]
     },
     "metadata": {
      "needs_background": "light"
     },
     "output_type": "display_data"
    },
    {
     "data": {
      "image/png": "[encoded data removed]",
      "text/plain": [
       "<Figure size 360x360 with 2 Axes>"
      ]
     },
     "metadata": {
      "needs_background": "light"
     },
     "output_type": "display_data"
    },
    {
     "data": {
      "image/png": "[encoded data removed]",
      "text/plain": [
       "<Figure size 360x360 with 2 Axes>"
      ]
     },
     "metadata": {
      "needs_background": "light"
     },
     "output_type": "display_data"
    }
   ],
   "source": [
    "### Decision Tree Confusion Matrix\n",
    "\n",
    "cm = confusion_matrix(y_test_1, dtc_pred)\n",
    "cm_df = pd.DataFrame(cm, index=['Actual Negative', 'Actual Neutral', 'Actual Positive'], columns=['Predicted Negative', 'Predicted Neutral', 'Predicted Positive'])\n",
    "plt.figure(figsize=(5, 5))\n",
    "sns.heatmap(cm_df, annot=True, fmt='g', cmap='Blues')\n",
    "plt.title('Decision Tree Confusion Matrix')\n",
    "plt.ylabel('Actual Label')\n",
    "plt.xlabel('Predicted Label')\n",
    "plt.show()\n",
    "\n",
    "### Naive Bayes Confusion Matrix\n",
    "\n",
    "cm = confusion_matrix(y_test_2, nb_pred)\n",
    "cm_df = pd.DataFrame(cm, index=['Actual Negative', 'Actual Neutral', 'Actual Positive'], columns=['Predicted Negative', 'Predicted Neutral', 'Predicted Positive'])\n",
    "plt.figure(figsize=(5, 5))\n",
    "sns.heatmap(cm_df, annot=True, fmt='g', cmap='Blues')\n",
    "plt.title('Naive Bayes Confusion Matrix')\n",
    "plt.ylabel('Actual Label')\n",
    "plt.xlabel('Predicted Label')\n",
    "plt.show()\n",
    "\n",
    "### Random Forest Confusion Matrix\n",
    "\n",
    "cm = confusion_matrix(y_test_3, rfc_pred)\n",
    "cm_df = pd.DataFrame(cm, index=['Actual Negative', 'Actual Neutral', 'Actual Positive'], columns=['Predicted Negative', 'Predicted Neutral', 'Predicted Positive'])\n",
    "plt.figure(figsize=(5, 5))\n",
    "sns.heatmap(cm_df, annot=True, fmt='g', cmap='Blues')\n",
    "plt.title('Random Forest Confusion Matrix')\n",
    "plt.ylabel('Actual Label')\n",
    "plt.xlabel('Predicted Label')\n",
    "plt.show()"
   ]
  },
  {
   "attachments": {},
   "cell_type": "markdown",
   "metadata": {},
   "source": [
    "## Validation of Models: Comparison of Results and F1 Scores"
   ]
  },
  {
   "cell_type": "code",
   "execution_count": 25,
   "metadata": {},
   "outputs": [
    {
     "data": {
      "image/png": "[encoded data removed]",
      "text/plain": [
       "<Figure size 432x288 with 1 Axes>"
      ]
     },
     "metadata": {
      "needs_background": "light"
     },
     "output_type": "display_data"
    }
   ],
   "source": [
    "### Visualizing the F1 scores and accuracy scores in a bar chart\n",
    "\n",
    "f1_scores = [f1_score(y_test_1, dtc_pred, average='weighted'), f1_score(y_test_2, nb_pred, average='weighted'), f1_score(y_test_3, rfc_pred, average='weighted')]\n",
    "accuracy_scores = [accuracy_score(y_test_1, dtc_pred), accuracy_score(y_test_2, nb_pred), accuracy_score(y_test_3, rfc_pred)]\n",
    "x = np.arange(len(f1_scores))\n",
    "width = 0.35\n",
    "fig, ax = plt.subplots()\n",
    "rects1 = ax.bar(x - width/2, f1_scores, width, label='F1 Scores')\n",
    "rects2 = ax.bar(x + width/2, accuracy_scores, width, label='Accuracy Scores')\n",
    "ax.set_ylabel('Scores')\n",
    "ax.set_title('F1 Scores and Accuracy Scores')\n",
    "ax.set_xticks(x)\n",
    "ax.set_xticklabels(['Decision Tree', 'Naive Bayes', 'Random Forest'])\n",
    "ax.legend()\n",
    "fig.tight_layout()\n",
    "plt.show()\n"
   ]
  },
  {
   "attachments": {},
   "cell_type": "markdown",
   "metadata": {},
   "source": [
    "## Further Tuning: Creating a Function which runs all models and returns accuracy and F1 scores"
   ]
  },
  {
   "cell_type": "code",
   "execution_count": 26,
   "metadata": {},
   "outputs": [
    {
     "name": "stdout",
     "output_type": "stream",
     "text": [
      "([0.39773667860994044, 0.6168765852761962, 0.41523895764584046], [0.35871617369414727, 0.6198867212083071, 0.4115796098174953])\n",
      "([0.4873559539475876, 0.6209944648665453, 0.4606899774573662], [0.5890497168030208, 0.644430459408433, 0.5846444304594084])\n"
     ]
    }
   ],
   "source": [
    "### Creating a function that performs SMOTE and then fits X_train, y_train, X_test, and y_test to the Decision Tree Classifier, Naive Bayes Classifier, and Random Forest Classifier and returns the F1 scores and accuracy scores\n",
    "\n",
    "def smote_fit_evaluate(X_train, y_train, X_test, y_test):\n",
    "    sm = SMOTE(random_state=1337, sampling_strategy='minority')\n",
    "    X_train, y_train = sm.fit_resample(X_train, y_train)\n",
    "    dtc.fit(X_train, y_train)\n",
    "    dtc_pred = dtc.predict(X_test)\n",
    "    nb.fit(X_train, y_train)\n",
    "    nb_pred = nb.predict(X_test)\n",
    "    rfc.fit(X_train, y_train)\n",
    "    rfc_pred = rfc.predict(X_test)\n",
    "    f1_scores = [f1_score(y_test, dtc_pred, average='weighted'), f1_score(y_test, nb_pred, average='weighted'), f1_score(y_test, rfc_pred, average='weighted')]\n",
    "    accuracy_scores = [accuracy_score(y_test, dtc_pred), accuracy_score(y_test, nb_pred), accuracy_score(y_test, rfc_pred)]\n",
    "    return f1_scores, accuracy_scores\n",
    "\n",
    "def fit_evaluate(X_train, y_train, X_test, y_test):\n",
    "    dtc.fit(X_train, y_train)\n",
    "    dtc_pred = dtc.predict(X_test)\n",
    "    nb.fit(X_train, y_train)\n",
    "    nb_pred = nb.predict(X_test)\n",
    "    rfc.fit(X_train, y_train)\n",
    "    rfc_pred = rfc.predict(X_test)\n",
    "    f1_scores = [f1_score(y_test, dtc_pred, average='weighted'), f1_score(y_test, nb_pred, average='weighted'), f1_score(y_test, rfc_pred, average='weighted')]\n",
    "    accuracy_scores = [accuracy_score(y_test, dtc_pred), accuracy_score(y_test, nb_pred), accuracy_score(y_test, rfc_pred)]\n",
    "    return f1_scores, accuracy_scores\n",
    "\n",
    "test = smote_fit_evaluate(X_train_1, y_train_1, X_test_1, y_test_1)\n",
    "print(test)\n",
    "\n",
    "test2 = fit_evaluate(X_train_1, y_train_1, X_test_1, y_test_1)\n",
    "print(test2)\n",
    "\n"
   ]
  },
  {
   "attachments": {},
   "cell_type": "markdown",
   "metadata": {},
   "source": [
    "## Deployment of the Model: Making Word Clouds and Visualizations of Predicted Sentiment"
   ]
  },
  {
   "cell_type": "code",
   "execution_count": 27,
   "metadata": {},
   "outputs": [],
   "source": [
    "### Function that takes in a list of tweets, performs the preprocessing steps by applying clean_text, and creates a new dataframe that contains the tweet and the predicted sentiment\n",
    "\n",
    "def predict_sentiment(tweets):\n",
    "    tweets = [clean_text(tweet) for tweet in tweets]\n",
    "    tweets_vectorized = cv.transform(tweets)\n",
    "    predictions = nb.predict(tweets_vectorized)\n",
    "    df = pd.DataFrame({'tweet': tweets, 'sentiment': predictions})\n",
    "    return df"
   ]
  },
  {
   "cell_type": "code",
   "execution_count": 28,
   "metadata": {},
   "outputs": [
    {
     "data": {
      "text/html": [
       "<div>\n",
       "<style scoped>\n",
       "    .dataframe tbody tr th:only-of-type {\n",
       "        vertical-align: middle;\n",
       "    }\n",
       "\n",
       "    .dataframe tbody tr th {\n",
       "        vertical-align: top;\n",
       "    }\n",
       "\n",
       "    .dataframe thead th {\n",
       "        text-align: right;\n",
       "    }\n",
       "</style>\n",
       "<table border=\"1\" class=\"dataframe\">\n",
       "  <thead>\n",
       "    <tr style=\"text-align: right;\">\n",
       "      <th></th>\n",
       "      <th>tweet</th>\n",
       "      <th>sentiment</th>\n",
       "    </tr>\n",
       "  </thead>\n",
       "  <tbody>\n",
       "    <tr>\n",
       "      <th>0</th>\n",
       "      <td>love product</td>\n",
       "      <td>Positive emotion</td>\n",
       "    </tr>\n",
       "    <tr>\n",
       "      <th>1</th>\n",
       "      <td>hate product</td>\n",
       "      <td>No emotion toward brand or product</td>\n",
       "    </tr>\n",
       "    <tr>\n",
       "      <th>2</th>\n",
       "      <td>neutral product</td>\n",
       "      <td>No emotion toward brand or product</td>\n",
       "    </tr>\n",
       "    <tr>\n",
       "      <th>3</th>\n",
       "      <td>sure product</td>\n",
       "      <td>No emotion toward brand or product</td>\n",
       "    </tr>\n",
       "    <tr>\n",
       "      <th>4</th>\n",
       "      <td>hate hate product</td>\n",
       "      <td>Negative emotion</td>\n",
       "    </tr>\n",
       "  </tbody>\n",
       "</table>\n",
       "</div>"
      ],
      "text/plain": [
       "               tweet                           sentiment\n",
       "0       love product                    Positive emotion\n",
       "1       hate product  No emotion toward brand or product\n",
       "2    neutral product  No emotion toward brand or product\n",
       "3       sure product  No emotion toward brand or product\n",
       "4  hate hate product                    Negative emotion"
      ]
     },
     "execution_count": 28,
     "metadata": {},
     "output_type": "execute_result"
    }
   ],
   "source": [
    "### Testing the predict_sentiment function with a series of dummy tweets\n",
    "\n",
    "test = ['I love this product!', 'I hate this product!', 'I am neutral about this product.', 'I am not sure about this product.', 'HATE HATE PRODUCT', 'I love this product!', 'I hate this product!', 'I am neutral about this product.', 'I am not sure about this product.', 'HATE HATE HATE ANGRY HATE HATE HATE', 'I love this product!', 'I hate this product!', 'I am neutral about this product.', 'I am not sure about this product.', 'HATE HATE HATE ANGRY HATE HATE HATE', 'I love this product!', 'I hate this product!', 'I am neutral about this product.', 'I am not sure about this product.', 'HATE HATE HATE ANGRY HATE HATE HATE', 'I love this product!', 'I hate this product!', 'I am neutral about this product.', 'I am not sure about this product.', 'HATE HATE HATE ANGRY HATE HATE HATE', 'I love this product!', 'I hate this product!', 'I am neutral about this product.', 'I am not sure about this product.', 'HATE HATE HATE ANGRY HATE HATE HATE', 'I love this product!', 'I hate this product!', 'I am neutral about this product.', 'I am not sure about this product.', 'HATE HATE HATE ANGRY HATE HATE HATE']\n",
    "\n",
    "test_df = predict_sentiment(test)\n",
    "test_df.head()"
   ]
  },
  {
   "cell_type": "code",
   "execution_count": 31,
   "metadata": {},
   "outputs": [],
   "source": [
    "### Creating a function that takes in a dataframe that contains the tweet and the predicted sentiment, and returns three word clouds delinated by the sentiment\n",
    "\n",
    "def create_word_clouds(df):\n",
    "    df_negative = df[df['sentiment'] == 'Negative emotion']\n",
    "    df_neutral = df[df['sentiment'] == 'No emotion toward brand or product']\n",
    "    df_positive = df[df['sentiment'] == 'Positive emotion']\n",
    "    negative_text = ' '.join(df_negative['tweet'])\n",
    "    neutral_text = ' '.join(df_neutral['tweet'])\n",
    "    positive_text = ' '.join(df_positive['tweet'])\n",
    "    negative_wordcloud = WordCloud(width=600, height=400, collocations=False).generate(negative_text)\n",
    "    neutral_wordcloud = WordCloud(width=600, height=400, collocations=False).generate(neutral_text)\n",
    "    positive_wordcloud = WordCloud(width=600, height=400, collocations=False).generate(positive_text)\n",
    "    fig, ax = plt.subplots(1, 3, figsize=(20, 10))\n",
    "    ax[0].imshow(negative_wordcloud, interpolation='bilinear')\n",
    "    ax[0].set_title('Negative Sentiment')\n",
    "    ax[0].axis('off')\n",
    "    ax[1].imshow(neutral_wordcloud, interpolation='bilinear')\n",
    "    ax[1].set_title('Neutral Sentiment')\n",
    "    ax[1].axis('off')\n",
    "    ax[2].imshow(positive_wordcloud, interpolation='bilinear')\n",
    "    ax[2].set_title('Positive Sentiment')\n",
    "    ax[2].axis('off')\n",
    "    plt.show()"
   ]
  },
  {
   "cell_type": "code",
   "execution_count": 32,
   "metadata": {},
   "outputs": [
    {
     "data": {
      "image/png": "[encoded data removed]",
      "text/plain": [
       "<Figure size 1440x720 with 3 Axes>"
      ]
     },
     "metadata": {
      "needs_background": "light"
     },
     "output_type": "display_data"
    }
   ],
   "source": [
    "### Testing the word_cloud function with the test_df dataframe\n",
    "\n",
    "create_word_clouds(test_df)"
   ]
  },
  {
   "cell_type": "code",
   "execution_count": null,
   "metadata": {},
   "outputs": [],
   "source": []
  }
 ],
 "metadata": {
  "kernelspec": {
   "display_name": "Python 3 (ipykernel)",
   "language": "python",
   "name": "python3"
  },
  "language_info": {
   "codemirror_mode": {
    "name": "ipython",
    "version": 3
   },
   "file_extension": ".py",
   "mimetype": "text/x-python",
   "name": "python",
   "nbconvert_exporter": "python",
   "pygments_lexer": "ipython3",
   "version": "3.8.5"
  },
  "vscode": {
   "interpreter": {
    "hash": "dba4eb4192a401b10630bbfa25b7fb709bd78a83adcb3ebf371257b880947706"
   }
  }
 },
 "nbformat": 4,
 "nbformat_minor": 2
}

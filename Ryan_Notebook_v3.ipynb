{
 "cells": [
  {
   "cell_type": "markdown",
   "metadata": {},
   "source": [
    "# **NLP Over a SXSW Twitter Data Set**"
   ]
  },
  {
   "cell_type": "markdown",
   "metadata": {},
   "source": [
    "## Package and Data Import"
   ]
  },
  {
   "cell_type": "markdown",
   "metadata": {},
   "source": [
    "*Package Imports*"
   ]
  },
  {
   "cell_type": "code",
   "execution_count": 1,
   "metadata": {},
   "outputs": [
    {
     "name": "stderr",
     "output_type": "stream",
     "text": [
      "[nltk_data] Downloading package wordnet to\n",
      "[nltk_data]     C:\\Users\\moore\\AppData\\Roaming\\nltk_data...\n",
      "[nltk_data]   Package wordnet is already up-to-date!\n",
      "[nltk_data] Downloading package vader_lexicon to\n",
      "[nltk_data]     C:\\Users\\moore\\AppData\\Roaming\\nltk_data...\n",
      "[nltk_data]   Package vader_lexicon is already up-to-date!\n"
     ]
    }
   ],
   "source": [
    "### Packages to Import\n",
    "import pandas as pd\n",
    "import numpy as np\n",
    "import matplotlib.pyplot as plt\n",
    "import seaborn as sns\n",
    "import nltk\n",
    "import re\n",
    "from nltk.tokenize import TweetTokenizer\n",
    "from nltk.corpus import stopwords, wordnet\n",
    "from nltk import pos_tag\n",
    "from nltk.stem import WordNetLemmatizer\n",
    "from sklearn.model_selection import train_test_split, cross_val_score\n",
    "from sklearn.tree import DecisionTreeClassifier\n",
    "from sklearn.ensemble import RandomForestClassifier\n",
    "from imblearn.pipeline import Pipeline as imbpipeline\n",
    "from sklearn.compose import ColumnTransformer\n",
    "from sklearn.preprocessing import OneHotEncoder\n",
    "from sklearn.linear_model import LogisticRegression\n",
    "from imblearn.over_sampling import SMOTE\n",
    "from sklearn.naive_bayes import MultinomialNB\n",
    "from sklearn.feature_extraction.text import CountVectorizer, TfidfVectorizer\n",
    "from sklearn.model_selection import GridSearchCV\n",
    "from nltk.sentiment.vader import SentimentIntensityAnalyzer\n",
    "from sklearn.compose import ColumnTransformer\n",
    "from sklearn.metrics import ConfusionMatrixDisplay, confusion_matrix, classification_report, plot_confusion_matrix, accuracy_score, f1_score, recall_score, precision_score\n",
    "from sklearn.svm import SVC\n",
    "from nltk.tokenize import RegexpTokenizer\n",
    "from collections import Counter\n",
    "import warnings\n",
    "nltk.download('wordnet')\n",
    "nltk.download('vader_lexicon')\n",
    "\n",
    "pd.set_option('display.max_colwidth', None)"
   ]
  },
  {
   "cell_type": "markdown",
   "metadata": {},
   "source": [
    "*Importing CSV File*"
   ]
  },
  {
   "cell_type": "code",
   "execution_count": 2,
   "metadata": {},
   "outputs": [],
   "source": [
    "### Import Data and Change Column Names\n",
    "\n",
    "df = pd.read_csv(\"data/tweets.csv\")\n",
    "df.columns = ['text', 'device', 'emotion']"
   ]
  },
  {
   "cell_type": "markdown",
   "metadata": {},
   "source": [
    "## Pre-Data Cleaning Column Addition"
   ]
  },
  {
   "attachments": {},
   "cell_type": "markdown",
   "metadata": {},
   "source": [
    "**Create column that counts the amount of mentions in a tweet**"
   ]
  },
  {
   "cell_type": "code",
   "execution_count": 3,
   "metadata": {},
   "outputs": [],
   "source": [
    "### Creating a column that counts the amount of mentions in each tweet\n",
    "\n",
    "df['mentions'] = df.text.str.count('@')"
   ]
  },
  {
   "attachments": {},
   "cell_type": "markdown",
   "metadata": {},
   "source": [
    "**Create a column that counts the amount of links in a tweet**\n",
    "\n",
    "*We are also considering anything with '.com', 'http', 'bit.ly', '.co', and '{link}' as a link*"
   ]
  },
  {
   "cell_type": "code",
   "execution_count": 4,
   "metadata": {
    "scrolled": true
   },
   "outputs": [],
   "source": [
    "df['links'] = 0\n",
    "\n",
    "url_like_strings = ['{link}', '.com', 'http', 'bit.ly', '.co']\n",
    "for s in url_like_strings:\n",
    "    df['links'] = df.links + list(map(lambda x: str(x).count(s), df['text']))"
   ]
  },
  {
   "cell_type": "markdown",
   "metadata": {},
   "source": [
    "## Data Cleaning"
   ]
  },
  {
   "cell_type": "markdown",
   "metadata": {},
   "source": [
    "**Dropping non-significant values and rows**"
   ]
  },
  {
   "cell_type": "code",
   "execution_count": 5,
   "metadata": {},
   "outputs": [],
   "source": [
    "### Dropping 'I can't tell' and 'Other' rows\n",
    "\n",
    "df = df[df['emotion'] != \"I can't tell\"]\n",
    "\n",
    "### Dropping blank 'text' rows\n",
    "\n",
    "df = df.dropna(subset=['text'])"
   ]
  },
  {
   "cell_type": "markdown",
   "metadata": {},
   "source": [
    "**Creating functions that clean the text data**"
   ]
  },
  {
   "cell_type": "code",
   "execution_count": 6,
   "metadata": {},
   "outputs": [],
   "source": [
    "### Creating a function that makes all text lowercase for further analysis\n",
    "\n",
    "def lower_case(text):\n",
    "    text = text.lower()\n",
    "    return text\n",
    "\n",
    "### Creating a function that removes the use of via in the context of via hashtag or via mention (removes 80% of vias)\n",
    "\n",
    "def remove_via(text):\n",
    "    \n",
    "    if 'via @' in text or 'via #' in text:\n",
    "        text = text.replace('via', '')\n",
    "    return text\n",
    "    \n",
    "### Creating a function that removes errant html syntax from the tweet (e.g. &amp; and &quot;)\n",
    "\n",
    "def remove_html(text):\n",
    "    \n",
    "    text = text.replace('&amp;', '')\n",
    "    text = text.replace('&quot;', '')\n",
    "    return text\n",
    "\n",
    "### Creating a function that removes urls or instances of '{link}' from the tweet\n",
    "\n",
    "def remove_url(text):\n",
    "    \n",
    "    url_like_strings = ['{link}', '.com', 'http', 'bit.ly', '.co']\n",
    "    text = text.split()\n",
    "    for s in url_like_strings:\n",
    "        text = [word for word in text if s not in word]\n",
    "    text = ' '.join(text)\n",
    "    return text\n",
    "\n",
    "### Creating a function that removes words that contain a @ and rt (retweet) \n",
    "### as mentions would not be important in determining the emotion of a tweet\n",
    "\n",
    "def remove_at_and_rt(text):\n",
    "    text = text.split()\n",
    "    text = [word for word in text if '@' not in word]\n",
    "    text = [word for word in text if word != 'rt']\n",
    "    text = ' '.join(text)\n",
    "    return text\n",
    "\n",
    "### Creating a function that removes '#SXSW' of any case type from the text\n",
    "\n",
    "def remove_sxsw(text):\n",
    "    text = text.split()\n",
    "    text = [word for word in text if '#sxsw' not in word]\n",
    "    text = ' '.join(text)\n",
    "    return text\n",
    "\n",
    "### Creating a function that uses a regex tokenizer to remove punctuation but ignores contraction apostrophes\n",
    "\n",
    "def remove_punctuation(text):\n",
    "    tokenizer = RegexpTokenizer(r'\\w+\\'?\\w+')\n",
    "    text = tokenizer.tokenize(text)\n",
    "    text = ' '.join(text)\n",
    "    return text\n",
    "\n",
    "### Creating a function that removes stopwords from a specified list of stopwords\n",
    "\n",
    "custom_stop_words = ['in','of','at','a','the']\n",
    "\n",
    "def remove_stopwords(text, stop_words_list = set(stopwords.words('english'))):\n",
    "    text = text.split()\n",
    "    text = [word for word in text if word not in stop_words_list]\n",
    "    text = ' '.join(text)\n",
    "    return text\n",
    "\n",
    "### Creating a function that removes non-ASCII characters\n",
    "\n",
    "def remove_characters(text):\n",
    "    text = text.encode('ascii', 'ignore').decode('ascii')\n",
    "    return text\n",
    "\n",
    "### Creating a function that lemmatizes words\n",
    "\n",
    "def lemmatize(text):\n",
    "    lemmatizer = WordNetLemmatizer()\n",
    "    text = text.split()\n",
    "    text = [lemmatizer.lemmatize(word) for word in text]\n",
    "    text = ' '.join(text)\n",
    "    return text\n",
    "\n",
    "### Creating a function that combines all of the above functions\n",
    "\n",
    "def clean_text(text):\n",
    "    text = lower_case(text)\n",
    "    text = remove_via(text)\n",
    "    text = remove_html(text)\n",
    "    text = remove_url(text)\n",
    "    text = remove_at_and_rt(text)\n",
    "    text = remove_sxsw(text)\n",
    "    text = remove_punctuation(text)\n",
    "    text = remove_stopwords(text)\n",
    "    text = remove_characters(text)\n",
    "    text = lemmatize(text)\n",
    "    return text"
   ]
  },
  {
   "cell_type": "code",
   "execution_count": 7,
   "metadata": {},
   "outputs": [
    {
     "name": "stdout",
     "output_type": "stream",
     "text": [
      "&quot;via @mention : {link} Guy Kawasaki talks 'Enchanted' at SXSW - HE knows his stuff! #books #internet #Apple #sxsw  &quot;\n",
      "guy kawasaki talk enchanted sxsw know stuff book internet apple\n"
     ]
    }
   ],
   "source": [
    "### Example of before and after cleaning\n",
    "\n",
    "print(df.text[60])\n",
    "print(clean_text(df['text'][60]))"
   ]
  },
  {
   "cell_type": "code",
   "execution_count": 8,
   "metadata": {},
   "outputs": [],
   "source": [
    "### Applying the clean_text function to the 'text' column and creating a santiy check csv\n",
    "\n",
    "df_clean = df.copy()\n",
    "df_clean['text'] = df_clean['text'].apply(clean_text)\n",
    "df_clean.to_csv('data/cleaned_tweets.csv')"
   ]
  },
  {
   "cell_type": "markdown",
   "metadata": {},
   "source": [
    "## Feature Engineering"
   ]
  },
  {
   "cell_type": "markdown",
   "metadata": {},
   "source": [
    "**Creating 'device_type'**"
   ]
  },
  {
   "cell_type": "code",
   "execution_count": 9,
   "metadata": {},
   "outputs": [],
   "source": [
    "### Deliniating between Google and Apple\n",
    "\n",
    "google_tweets = ['Google', 'Other Google product or service', 'Andriod App', 'Andriod']\n",
    "apple_tweets = ['Apple', 'Other Apple product or service', 'Apple App', 'iPhone', 'iPad', 'iPad or iPhone App']\n",
    "\n",
    "### Creating a new column for google vs. apple vs. unknown\n",
    "\n",
    "df['device_type'] = np.where(df['device'].isin(google_tweets), 'Google', \n",
    "                    np.where(df['device'].isin(apple_tweets), 'Apple', \n",
    "                             'Unknown'))"
   ]
  },
  {
   "cell_type": "markdown",
   "metadata": {},
   "source": [
    "**Approximating 'Company' Values based off of 'text' and 'device_type'**"
   ]
  },
  {
   "cell_type": "code",
   "execution_count": 10,
   "metadata": {},
   "outputs": [],
   "source": [
    "### Creating a new column for 'Google' and 'Apple' based on device type and key words in the 'text' column\n",
    "\n",
    "google_key_words = [\"Google\", \"Android\", \"Pixel\", \"Circles\", \"Droid\", \"Galaxy S\", \"Realtime\", \"Maps\", \"Google Maps\", \"Circle\" ]\n",
    "\n",
    "apple_key_words = [\"Apple\", \"iPhone\", \"iPad\", \"Mac\", \"iMac\", \"iPod\", \"iTunes\", \"iWatch\", \"iMessage\", \"iCloud\", \"iBook\", \"iMac\", \n",
    "                   \"app_store\", \"app store\", \"ios\", \"ios4\", \"ios4.1\", \"ios4.2\", \"iphone app\", \"3g\", \"ios\"]\n",
    "                  \n",
    "df['Google'] = np.where(df['device_type'] == 'Google', True, \n",
    "               np.where(df['text'].str.lower().str.contains('|'.join(google_key_words), case=False), True, \n",
    "               False))\n",
    "\n",
    "df['Apple'] = np.where(df['device_type'] == 'Apple', True,\n",
    "              np.where(df['text'].str.lower().str.contains('|'.join(apple_key_words), case=False), True,\n",
    "              False))\n",
    "\n",
    "### Create new column 'both' that is true if both Google and Apple are true\n",
    "\n",
    "df['both'] = np.where((df['Google'] == True) & (df['Apple'] == True), True, False)\n",
    "\n",
    "### Dropping rows where both Google and Apple are true and where Google and Apple are both false\n",
    "\n",
    "df = df[df['both'] == False]\n",
    "df = df[df['Google'] != df['Apple']]\n",
    "df = df.drop(columns=['both'])\n"
   ]
  },
  {
   "cell_type": "markdown",
   "metadata": {},
   "source": [
    "**Establishing a VADER Sentiment Score**"
   ]
  },
  {
   "cell_type": "code",
   "execution_count": 11,
   "metadata": {},
   "outputs": [],
   "source": [
    "### Creating new columns in the dataframe which append 'pos', 'neg', and 'neu' using VADER sentiment analysis\n",
    "\n",
    "sid = SentimentIntensityAnalyzer()\n",
    "df['sentiment'] = df['text'].apply(lambda x: sid.polarity_scores(x))\n",
    "df = pd.concat([df.drop(['sentiment'], axis=1), df['sentiment'].apply(pd.Series)], axis=1)"
   ]
  },
  {
   "attachments": {},
   "cell_type": "markdown",
   "metadata": {},
   "source": [
    "**Creating 'emphasis' columns that score how many exclamation points, question marks, and capital letters are in the text, respectively**"
   ]
  },
  {
   "cell_type": "code",
   "execution_count": 12,
   "metadata": {},
   "outputs": [],
   "source": [
    "### Creating an 'punc_emphasis' column that scores how many exclamation points and question marks are in the text\n",
    "\n",
    "df['punc_emphasis'] = df['text'].apply(lambda x: sum([1 for char in x if char in ['!', '?']]))\n",
    "\n",
    "### Creating a 'capt_emphasis' column that scores how many capitalized words are in the text\n",
    "\n",
    "df['capt_emphasis'] = df['text'].apply(lambda x: sum([1 for word in x.split() if word.isupper()]))"
   ]
  },
  {
   "attachments": {},
   "cell_type": "markdown",
   "metadata": {},
   "source": [
    "## Exploring the Cleaned Data"
   ]
  },
  {
   "cell_type": "code",
   "execution_count": 13,
   "metadata": {},
   "outputs": [
    {
     "data": {
      "image/png": "[encoded data removed]",
      "text/plain": [
       "<Figure size 432x288 with 1 Axes>"
      ]
     },
     "metadata": {
      "needs_background": "light"
     },
     "output_type": "display_data"
    }
   ],
   "source": [
    "### Visualize the distribution of the target variable by device type\n",
    "\n",
    "sns.countplot(x='emotion', hue='device_type', data=df)\n",
    "plt.xlabel('Emotion')\n",
    "plt.xticks(rotation=45)\n",
    "plt.ylabel('Count')\n",
    "plt.title('Distribution of Emotions by Device Type')\n",
    "plt.show()\n"
   ]
  },
  {
   "cell_type": "code",
   "execution_count": 14,
   "metadata": {},
   "outputs": [
    {
     "data": {
      "image/png": "[encoded data removed]",
      "text/plain": [
       "<Figure size 1080x360 with 2 Axes>"
      ]
     },
     "metadata": {
      "needs_background": "light"
     },
     "output_type": "display_data"
    }
   ],
   "source": [
    "### Plot the distribution between the target variable and the emphasis columns, removing 0 values and 'no emotion' values\n",
    "\n",
    "fig, ax = plt.subplots(1, 2, figsize=(15, 5))\n",
    "sns.countplot(x='emotion', hue='punc_emphasis', data=df[(df['punc_emphasis'] != 0) & (df['emotion'] != 'No emotion toward brand or product')], ax=ax[0], palette='muted')\n",
    "sns.countplot(x='emotion', hue='capt_emphasis', data=df[(df['capt_emphasis'] != 0) & (df['emotion'] != 'No emotion toward brand or product')], ax=ax[1], palette='muted')\n",
    "ax[0].set_xlabel('Emotion')\n",
    "ax[0].set_xticklabels(ax[0].get_xticklabels(), rotation=45)\n",
    "ax[0].set_ylabel('Count')\n",
    "ax[0].set_title('Distribution of Emotions by Punctuation Emphasis')\n",
    "ax[1].set_xlabel('Emotion')\n",
    "ax[1].set_xticklabels(ax[1].get_xticklabels(), rotation=45)\n",
    "ax[1].set_ylabel('Count of Tweets')\n",
    "ax[1].set_title('Distribution of Emotions by Capitalization Emphasis')\n",
    "plt.show()\n"
   ]
  },
  {
   "cell_type": "code",
   "execution_count": 15,
   "metadata": {},
   "outputs": [
    {
     "data": {
      "image/png": "[encoded data removed]",
      "text/plain": [
       "<Figure size 432x288 with 1 Axes>"
      ]
     },
     "metadata": {
      "needs_background": "light"
     },
     "output_type": "display_data"
    }
   ],
   "source": [
    "### Plotting the top 10 most common words in the 'text' column in an sns bar chart after applying the clean_text function\n",
    "\n",
    "text = ' '.join(df['text'])\n",
    "text = clean_text(text)\n",
    "text = text.split()\n",
    "\n",
    "freq = pd.Series(text).value_counts()[:10]\n",
    "freq = freq.to_frame()\n",
    "freq = freq.reset_index()\n",
    "freq.columns = ['word', 'count']\n",
    "freq = freq.sort_values(by='count', ascending=False)\n",
    "\n",
    "sns.barplot(x='count', y='word', data=freq, palette='muted')\n",
    "plt.xlabel('Count')\n",
    "plt.ylabel('Word')\n",
    "plt.title('Top 10 Most Common Words in Tweets')\n",
    "plt.show()"
   ]
  },
  {
   "cell_type": "markdown",
   "metadata": {},
   "source": [
    "## Modeling"
   ]
  },
  {
   "cell_type": "markdown",
   "metadata": {},
   "source": [
    "**First Simple Model - Count Vectorizer / Decision Tree / No Features**"
   ]
  },
  {
   "cell_type": "code",
   "execution_count": 16,
   "metadata": {},
   "outputs": [
    {
     "name": "stdout",
     "output_type": "stream",
     "text": [
      "Cross Validation Scores:  [0.65224233 0.6490952  0.63571991 0.64516129 0.63543307]\n",
      "Mean Cross Validation Score:  0.6435303592558405\n"
     ]
    }
   ],
   "source": [
    "### Breaking the data into a singular feature and the target variable\n",
    "\n",
    "X1 = df['text']\n",
    "y1 = df['emotion']\n",
    "\n",
    "### Performing a train test split on the data\n",
    "\n",
    "X_train_1, X_test_1, y_train_1, y_test_1 = train_test_split(X1, y1, test_size=0.2, random_state=1337)\n",
    "\n",
    "### TRAIN - Apply the clean_text function to the training data\n",
    "\n",
    "X_train_1 = X_train_1.apply(clean_text)\n",
    "\n",
    "### TRAIN - Tokenize the training data with a simple split of words, and then flattening to prepare for vectorization\n",
    "\n",
    "X_train_1 = X_train_1.apply(lambda x: x.split())\n",
    "X_train_1 = X_train_1.map(' '.join)\n",
    "\n",
    "### TRAIN - Vectorize the training data using CountVectorizer\n",
    "\n",
    "cv = CountVectorizer()\n",
    "X_train_1 = cv.fit_transform(X_train_1)\n",
    "\n",
    "### TRAIN - Fit the training data to a Decision Tree Classifier\n",
    "\n",
    "dtc = DecisionTreeClassifier()\n",
    "dtc.fit(X_train_1, y_train_1)\n",
    "\n",
    "### VALIDATION - Perform a cross validation on the decision tree classifier\n",
    "\n",
    "scores = cross_val_score(dtc, X_train_1, y_train_1, cv=5)\n",
    "print('Cross Validation Scores: ', scores)\n",
    "print('Mean Cross Validation Score: ', scores.mean())"
   ]
  },
  {
   "attachments": {},
   "cell_type": "markdown",
   "metadata": {},
   "source": [
    "**Second Model - Count Vectorizer / Naive Bayes Model / Added Sentiment and Emphasis Score**"
   ]
  },
  {
   "cell_type": "code",
   "execution_count": 17,
   "metadata": {},
   "outputs": [
    {
     "name": "stdout",
     "output_type": "stream",
     "text": [
      "Cross Validation Scores:  [0.63335956 0.64516129 0.64201416 0.6404406  0.63858268]\n",
      "Mean Cross Validation Score:  0.6399116573842903\n"
     ]
    },
    {
     "name": "stderr",
     "output_type": "stream",
     "text": [
      "<ipython-input-17-ee328726ce7f>:12: SettingWithCopyWarning: \n",
      "A value is trying to be set on a copy of a slice from a DataFrame.\n",
      "Try using .loc[row_indexer,col_indexer] = value instead\n",
      "\n",
      "See the caveats in the documentation: https://pandas.pydata.org/pandas-docs/stable/user_guide/indexing.html#returning-a-view-versus-a-copy\n",
      "  X_train_2['text'] = X_train_2['text'].apply(clean_text)\n",
      "<ipython-input-17-ee328726ce7f>:16: SettingWithCopyWarning: \n",
      "A value is trying to be set on a copy of a slice from a DataFrame.\n",
      "Try using .loc[row_indexer,col_indexer] = value instead\n",
      "\n",
      "See the caveats in the documentation: https://pandas.pydata.org/pandas-docs/stable/user_guide/indexing.html#returning-a-view-versus-a-copy\n",
      "  X_train_2['text'] = X_train_2['text'].apply(lambda x: x.split())\n",
      "<ipython-input-17-ee328726ce7f>:17: SettingWithCopyWarning: \n",
      "A value is trying to be set on a copy of a slice from a DataFrame.\n",
      "Try using .loc[row_indexer,col_indexer] = value instead\n",
      "\n",
      "See the caveats in the documentation: https://pandas.pydata.org/pandas-docs/stable/user_guide/indexing.html#returning-a-view-versus-a-copy\n",
      "  X_train_2['text'] = X_train_2['text'].map(' '.join)\n"
     ]
    }
   ],
   "source": [
    "### Splitting the features into features and the target, including the 'text', sentiment columns, and emphasis columns as features\n",
    "\n",
    "X2 = df[['text', 'compound', 'neg', 'neu', 'pos', 'punc_emphasis', 'capt_emphasis']]\n",
    "y2 = df['emotion']\n",
    "\n",
    "### Performing a train test split on the data\n",
    "\n",
    "X_train_2, X_test_2, y_train_2, y_test_2 = train_test_split(X2, y2, test_size=0.2, random_state=1337)\n",
    "\n",
    "### TRAIN - Applying the clean_text function to the training data\n",
    "\n",
    "X_train_2['text'] = X_train_2['text'].apply(clean_text)\n",
    "\n",
    "### TRAIN - Tokenizing the training data with a simple split of words, and then flattening to prepare for vectorization\n",
    "\n",
    "X_train_2['text'] = X_train_2['text'].apply(lambda x: x.split())\n",
    "X_train_2['text'] = X_train_2['text'].map(' '.join)\n",
    "\n",
    "### TRAIN - Vectorizing the training data using a CountVectorizer\n",
    "\n",
    "cv = CountVectorizer()\n",
    "X_train_2 = cv.fit_transform(X_train_2['text'])\n",
    "\n",
    "### TRAIN - Fit the training data to a Naive Bayes Classifier\n",
    "\n",
    "nb = MultinomialNB()\n",
    "nb.fit(X_train_2, y_train_2)\n",
    "\n",
    "### VALIDATION - Perform a cross validation on the Naive Bayes Classifier\n",
    "\n",
    "scores = cross_val_score(nb, X_train_2, y_train_2, cv=5)\n",
    "print('Cross Validation Scores: ', scores)\n",
    "print('Mean Cross Validation Score: ', scores.mean())"
   ]
  },
  {
   "cell_type": "markdown",
   "metadata": {},
   "source": [
    "**Third Model - TDIF Vectorizer / Random Forest / Added sentiment and Emphasis Scores**"
   ]
  },
  {
   "cell_type": "code",
   "execution_count": 18,
   "metadata": {},
   "outputs": [
    {
     "name": "stderr",
     "output_type": "stream",
     "text": [
      "<ipython-input-18-fa41405dbf01>:12: SettingWithCopyWarning: \n",
      "A value is trying to be set on a copy of a slice from a DataFrame.\n",
      "Try using .loc[row_indexer,col_indexer] = value instead\n",
      "\n",
      "See the caveats in the documentation: https://pandas.pydata.org/pandas-docs/stable/user_guide/indexing.html#returning-a-view-versus-a-copy\n",
      "  X_train_3['text'] = X_train_3['text'].apply(clean_text)\n",
      "<ipython-input-18-fa41405dbf01>:16: SettingWithCopyWarning: \n",
      "A value is trying to be set on a copy of a slice from a DataFrame.\n",
      "Try using .loc[row_indexer,col_indexer] = value instead\n",
      "\n",
      "See the caveats in the documentation: https://pandas.pydata.org/pandas-docs/stable/user_guide/indexing.html#returning-a-view-versus-a-copy\n",
      "  X_train_3['text'] = X_train_3['text'].apply(lambda x: x.split())\n",
      "<ipython-input-18-fa41405dbf01>:17: SettingWithCopyWarning: \n",
      "A value is trying to be set on a copy of a slice from a DataFrame.\n",
      "Try using .loc[row_indexer,col_indexer] = value instead\n",
      "\n",
      "See the caveats in the documentation: https://pandas.pydata.org/pandas-docs/stable/user_guide/indexing.html#returning-a-view-versus-a-copy\n",
      "  X_train_3['text'] = X_train_3['text'].map(' '.join)\n"
     ]
    },
    {
     "name": "stdout",
     "output_type": "stream",
     "text": [
      "Cross Validation Scores:  [0.66011015 0.68056648 0.66955153 0.6490952  0.66062992]\n",
      "Mean Cross Validation Score:  0.6639906577374131\n"
     ]
    }
   ],
   "source": [
    "### Splitting the features into features and the target, including the 'text', sentiment columns, and emphasis columns as features\n",
    "\n",
    "X2 = df[['text', 'compound', 'neg', 'neu', 'pos', 'punc_emphasis', 'capt_emphasis']]\n",
    "y2 = df['emotion']\n",
    "\n",
    "### Performing a train test split on the data\n",
    "\n",
    "X_train_3, X_test_3, y_train_3, y_test_3 = train_test_split(X2, y2, test_size=0.2, random_state=1337)\n",
    "\n",
    "### TRAIN - Applying the clean_text function to the training data\n",
    "\n",
    "X_train_3['text'] = X_train_3['text'].apply(clean_text)\n",
    "\n",
    "### TRAIN - Tokenizing the training data with a simple split of words, and then flattening to prepare for vectorization\n",
    "\n",
    "X_train_3['text'] = X_train_3['text'].apply(lambda x: x.split())\n",
    "X_train_3['text'] = X_train_3['text'].map(' '.join)\n",
    "\n",
    "### TRAIN - Vectorizing the training data using a TD-IDF Vectorizer\n",
    "\n",
    "tfidf = TfidfVectorizer()\n",
    "X_train_3 = tfidf.fit_transform(X_train_3['text'])\n",
    "\n",
    "### TRAIN - Fit the training data to a Random Forest Classifier\n",
    "\n",
    "rfc = RandomForestClassifier()\n",
    "rfc.fit(X_train_3, y_train_3)\n",
    "\n",
    "### VALIDATION - Perform a cross validation on the Random Forest Classifier\n",
    "\n",
    "scores = cross_val_score(rfc, X_train_3, y_train_3, cv=5)\n",
    "print('Cross Validation Scores: ', scores)\n",
    "print('Mean Cross Validation Score: ', scores.mean())\n",
    "\n"
   ]
  },
  {
   "attachments": {},
   "cell_type": "markdown",
   "metadata": {},
   "source": [
    "## Initial Tuning of Hyper Parameters via Grid Search\n",
    "\n",
    "DTC Results = {'max_depth': 25, 'max_features': 'auto', 'min_samples_leaf': 1, 'min_samples_split': 5}\n",
    "NBC Results = {'alpha': 2}\n",
    "RFC Results = {'max_depth': 15, 'max_features': 'sqrt', 'min_samples_leaf': 1, 'min_samples_split': 2, 'n_estimators': 10}"
   ]
  },
  {
   "cell_type": "code",
   "execution_count": 19,
   "metadata": {},
   "outputs": [],
   "source": [
    "# ### Performing a grid search on the Decision Tree Classifier\n",
    "\n",
    "# param_grid = {'max_depth': [5, 10, 15, 20, 25],\n",
    "#                 'min_samples_split': [2, 3, 5, 10],\n",
    "#                 'min_samples_leaf': [1, 4, 8, 10],\n",
    "#                 'max_features': ['auto', 'sqrt', 'log2']}\n",
    "# grid = GridSearchCV(dtc, param_grid, cv=5, scoring='accuracy')\n",
    "# grid.fit(X_train_1, y_train_1)\n",
    "# print('Best Parameters: ', grid.best_params_)\n",
    "\n",
    "\n",
    "# ### Performing a grid search on the Naive Bayes Classifier\n",
    "\n",
    "# param_grid = {'alpha': [0.1, 0.5, 1, 2, 5, 20, 50]}\n",
    "# grid = GridSearchCV(nb, param_grid, cv=5, scoring='accuracy')\n",
    "# grid.fit(X_train_2, y_train_2)\n",
    "# print('Best Parameters: ', grid.best_params_)\n",
    "\n",
    "# ### Performing a grid search on the Random Forest Classifier\n",
    "\n",
    "# param_grid = {'n_estimators': [10, 50, 100, 200],\n",
    "#                 'max_depth': [5, 10, 15],\n",
    "#                 'min_samples_split': [2, 3, 7],\n",
    "#                 'min_samples_leaf': [1, 2, 6],\n",
    "#                 'max_features': ['auto', 'sqrt', 'log2']}\n",
    "# grid = GridSearchCV(rfc, param_grid, cv=5, scoring='accuracy')\n",
    "# grid.fit(X_train_3, y_train_3)\n",
    "# print('Best Parameters: ', grid.best_params_)\n"
   ]
  },
  {
   "attachments": {},
   "cell_type": "markdown",
   "metadata": {},
   "source": [
    "## Applying Initial Hyper Parameter Tuning to Models and Evaluating Results on Test Set"
   ]
  },
  {
   "attachments": {},
   "cell_type": "markdown",
   "metadata": {},
   "source": [
    "**Applying Hyperparameters**"
   ]
  },
  {
   "cell_type": "code",
   "execution_count": 20,
   "metadata": {},
   "outputs": [
    {
     "data": {
      "text/plain": [
       "RandomForestClassifier(max_depth=15, max_features='sqrt', n_estimators=10)"
      ]
     },
     "execution_count": 20,
     "metadata": {},
     "output_type": "execute_result"
    }
   ],
   "source": [
    "### Applying the hyperparameters from the grid search to the Decision Tree Classifier\n",
    "\n",
    "dtc = DecisionTreeClassifier(max_depth = 25, max_features = 'auto', min_samples_leaf = 1, min_samples_split = 5)\n",
    "dtc.fit(X_train_1, y_train_1)\n",
    "\n",
    "### Applying the hyperparameters from the grid search to the Naive Bayes Classifier\n",
    "\n",
    "nb = MultinomialNB(alpha=2)\n",
    "nb.fit(X_train_2, y_train_2)\n",
    "\n",
    "### Applying the hyperparameters from the grid search to the Random Forest Classifier\n",
    "\n",
    "rfc = RandomForestClassifier(max_depth = 15, max_features = 'sqrt', min_samples_leaf = 1, min_samples_split = 2, n_estimators = 10)\n",
    "rfc.fit(X_train_3, y_train_3)"
   ]
  },
  {
   "attachments": {},
   "cell_type": "markdown",
   "metadata": {},
   "source": [
    "**Preprocessing Test Data on each Model**"
   ]
  },
  {
   "cell_type": "code",
   "execution_count": 21,
   "metadata": {},
   "outputs": [
    {
     "name": "stderr",
     "output_type": "stream",
     "text": [
      "<ipython-input-21-a664f117a575>:17: SettingWithCopyWarning: \n",
      "A value is trying to be set on a copy of a slice from a DataFrame.\n",
      "Try using .loc[row_indexer,col_indexer] = value instead\n",
      "\n",
      "See the caveats in the documentation: https://pandas.pydata.org/pandas-docs/stable/user_guide/indexing.html#returning-a-view-versus-a-copy\n",
      "  X_test_3['text'] = X_test_3['text'].apply(clean_text)\n",
      "<ipython-input-21-a664f117a575>:18: SettingWithCopyWarning: \n",
      "A value is trying to be set on a copy of a slice from a DataFrame.\n",
      "Try using .loc[row_indexer,col_indexer] = value instead\n",
      "\n",
      "See the caveats in the documentation: https://pandas.pydata.org/pandas-docs/stable/user_guide/indexing.html#returning-a-view-versus-a-copy\n",
      "  X_test_3['text'] = X_test_3['text'].apply(lambda x: x.split())\n",
      "<ipython-input-21-a664f117a575>:19: SettingWithCopyWarning: \n",
      "A value is trying to be set on a copy of a slice from a DataFrame.\n",
      "Try using .loc[row_indexer,col_indexer] = value instead\n",
      "\n",
      "See the caveats in the documentation: https://pandas.pydata.org/pandas-docs/stable/user_guide/indexing.html#returning-a-view-versus-a-copy\n",
      "  X_test_3['text'] = X_test_3['text'].map(' '.join)\n"
     ]
    }
   ],
   "source": [
    "### Decision Tree Test Set Preprocessing\n",
    "\n",
    "X_test_1 = X_test_1.apply(clean_text)\n",
    "X_test_1 = X_test_1.apply(lambda x: x.split())\n",
    "X_test_1 = X_test_1.map(' '.join)\n",
    "X_test_1 = cv.transform(X_test_1)\n",
    "\n",
    "### Naive Bayes Test Set Preprocessing\n",
    "\n",
    "X_test_2['text'] = X_test_2['text'].apply(clean_text)\n",
    "X_test_2['text'] = X_test_2['text'].apply(lambda x: x.split())\n",
    "X_test_2['text'] = X_test_2['text'].map(' '.join)\n",
    "X_test_2 = cv.transform(X_test_2['text'])\n",
    "\n",
    "### Random Forest Test Set Preprocessing\n",
    "\n",
    "X_test_3['text'] = X_test_3['text'].apply(clean_text)\n",
    "X_test_3['text'] = X_test_3['text'].apply(lambda x: x.split())\n",
    "X_test_3['text'] = X_test_3['text'].map(' '.join)\n",
    "X_test_3 = tfidf.transform(X_test_3['text'])"
   ]
  },
  {
   "attachments": {},
   "cell_type": "markdown",
   "metadata": {},
   "source": [
    "**Running Models on Test Data and Evaluating Results**"
   ]
  },
  {
   "cell_type": "code",
   "execution_count": 22,
   "metadata": {},
   "outputs": [],
   "source": [
    "### Decision Tree Test Set Predictions\n",
    "\n",
    "dtc_pred = dtc.predict(X_test_1)\n",
    "\n",
    "### Naive Bayes Test Set Predictions\n",
    "\n",
    "nb_pred = nb.predict(X_test_2)\n",
    "\n",
    "### Random Forest Test Set Predictions\n",
    "\n",
    "rfc_pred = rfc.predict(X_test_3)"
   ]
  },
  {
   "cell_type": "code",
   "execution_count": 23,
   "metadata": {},
   "outputs": [
    {
     "name": "stdout",
     "output_type": "stream",
     "text": [
      "Decision Tree Accuracy:  0.5752045311516677\n",
      "Decision Tree F1 Score:  0.46828330176544986\n",
      "Decision Tree Precision Score:  0.5764138868943705\n",
      "Decision Tree Recall Score:  0.5752045311516677\n",
      "Naive Bayes Accuracy:  0.644430459408433\n",
      "Naive Bayes F1 Score:  0.6209944648665453\n",
      "Naive Bayes Precision Score:  0.6511829653302442\n",
      "Naive Bayes Recall Score:  0.644430459408433\n",
      "Random Forest Accuracy:  0.5959723096286973\n",
      "Random Forest F1 Score:  0.49453512797203797\n",
      "Random Forest Precision Score:  0.5977103739745071\n",
      "Random Forest Recall Score:  0.5959723096286973\n"
     ]
    }
   ],
   "source": [
    "### Decision Tree Test Set Evaluation\n",
    "\n",
    "print('Decision Tree Accuracy: ', accuracy_score(y_test_1, dtc_pred))\n",
    "print('Decision Tree F1 Score: ', f1_score(y_test_1, dtc_pred, average='weighted'))\n",
    "print('Decision Tree Precision Score: ', precision_score(y_test_1, dtc_pred, average='weighted'))\n",
    "print('Decision Tree Recall Score: ', recall_score(y_test_1, dtc_pred, average='weighted'))\n",
    "\n",
    "### Naive Bayes Test Set Evaluation\n",
    "\n",
    "print('Naive Bayes Accuracy: ', accuracy_score(y_test_2, nb_pred))\n",
    "print('Naive Bayes F1 Score: ', f1_score(y_test_2, nb_pred, average='weighted'))\n",
    "print('Naive Bayes Precision Score: ', precision_score(y_test_2, nb_pred, average='weighted'))\n",
    "print('Naive Bayes Recall Score: ', recall_score(y_test_2, nb_pred, average='weighted'))\n",
    "\n",
    "### Random Forest Test Set Evaluation\n",
    "\n",
    "print('Random Forest Accuracy: ', accuracy_score(y_test_3, rfc_pred))\n",
    "print('Random Forest F1 Score: ', f1_score(y_test_3, rfc_pred, average='weighted'))\n",
    "print('Random Forest Precision Score: ', precision_score(y_test_3, rfc_pred, average='weighted'))\n",
    "print('Random Forest Recall Score: ', recall_score(y_test_3, rfc_pred, average='weighted'))"
   ]
  },
  {
   "cell_type": "code",
   "execution_count": 24,
   "metadata": {},
   "outputs": [
    {
     "data": {
      "image/png": "[encoded data removed]",
      "text/plain": [
       "<Figure size 360x360 with 2 Axes>"
      ]
     },
     "metadata": {
      "needs_background": "light"
     },
     "output_type": "display_data"
    },
    {
     "data": {
      "image/png": "[encoded data removed]",
      "text/plain": [
       "<Figure size 360x360 with 2 Axes>"
      ]
     },
     "metadata": {
      "needs_background": "light"
     },
     "output_type": "display_data"
    },
    {
     "data": {
      "image/png": "[encoded data removed]",
      "text/plain": [
       "<Figure size 360x360 with 2 Axes>"
      ]
     },
     "metadata": {
      "needs_background": "light"
     },
     "output_type": "display_data"
    }
   ],
   "source": [
    "### Decision Tree Confusion Matrix\n",
    "\n",
    "cm = confusion_matrix(y_test_1, dtc_pred)\n",
    "cm_df = pd.DataFrame(cm, index=['Actual Negative', 'Actual Neutral', 'Actual Positive'], columns=['Predicted Negative', 'Predicted Neutral', 'Predicted Positive'])\n",
    "plt.figure(figsize=(5, 5))\n",
    "sns.heatmap(cm_df, annot=True, fmt='g', cmap='Blues')\n",
    "plt.title('Decision Tree Confusion Matrix')\n",
    "plt.ylabel('Actual Label')\n",
    "plt.xlabel('Predicted Label')\n",
    "plt.show()\n",
    "\n",
    "### Naive Bayes Confusion Matrix\n",
    "\n",
    "cm = confusion_matrix(y_test_2, nb_pred)\n",
    "cm_df = pd.DataFrame(cm, index=['Actual Negative', 'Actual Neutral', 'Actual Positive'], columns=['Predicted Negative', 'Predicted Neutral', 'Predicted Positive'])\n",
    "plt.figure(figsize=(5, 5))\n",
    "sns.heatmap(cm_df, annot=True, fmt='g', cmap='Blues')\n",
    "plt.title('Naive Bayes Confusion Matrix')\n",
    "plt.ylabel('Actual Label')\n",
    "plt.xlabel('Predicted Label')\n",
    "plt.show()\n",
    "\n",
    "### Random Forest Confusion Matrix\n",
    "\n",
    "cm = confusion_matrix(y_test_3, rfc_pred)\n",
    "cm_df = pd.DataFrame(cm, index=['Actual Negative', 'Actual Neutral', 'Actual Positive'], columns=['Predicted Negative', 'Predicted Neutral', 'Predicted Positive'])\n",
    "plt.figure(figsize=(5, 5))\n",
    "sns.heatmap(cm_df, annot=True, fmt='g', cmap='Blues')\n",
    "plt.title('Random Forest Confusion Matrix')\n",
    "plt.ylabel('Actual Label')\n",
    "plt.xlabel('Predicted Label')\n",
    "plt.show()"
   ]
  },
  {
   "attachments": {},
   "cell_type": "markdown",
   "metadata": {},
   "source": [
    "## Final Comparison of Models"
   ]
  },
  {
   "cell_type": "code",
   "execution_count": 25,
   "metadata": {},
   "outputs": [
    {
     "data": {
      "image/png": "[encoded data removed]",
      "text/plain": [
       "<Figure size 432x288 with 1 Axes>"
      ]
     },
     "metadata": {
      "needs_background": "light"
     },
     "output_type": "display_data"
    }
   ],
   "source": [
    "### Visualizing the F1 scores and accuracy scores in a bar chart\n",
    "\n",
    "f1_scores = [f1_score(y_test_1, dtc_pred, average='weighted'), f1_score(y_test_2, nb_pred, average='weighted'), f1_score(y_test_3, rfc_pred, average='weighted')]\n",
    "accuracy_scores = [accuracy_score(y_test_1, dtc_pred), accuracy_score(y_test_2, nb_pred), accuracy_score(y_test_3, rfc_pred)]\n",
    "x = np.arange(len(f1_scores))\n",
    "width = 0.35\n",
    "fig, ax = plt.subplots()\n",
    "rects1 = ax.bar(x - width/2, f1_scores, width, label='F1 Scores')\n",
    "rects2 = ax.bar(x + width/2, accuracy_scores, width, label='Accuracy Scores')\n",
    "ax.set_ylabel('Scores')\n",
    "ax.set_title('F1 Scores and Accuracy Scores')\n",
    "ax.set_xticks(x)\n",
    "ax.set_xticklabels(['Decision Tree', 'Naive Bayes', 'Random Forest'])\n",
    "ax.legend()\n",
    "fig.tight_layout()\n",
    "plt.show()\n"
   ]
  },
  {
   "cell_type": "code",
   "execution_count": null,
   "metadata": {},
   "outputs": [],
   "source": []
  }
 ],
 "metadata": {
  "kernelspec": {
   "display_name": "Python 3 (ipykernel)",
   "language": "python",
   "name": "python3"
  },
  "language_info": {
   "codemirror_mode": {
    "name": "ipython",
    "version": 3
   },
   "file_extension": ".py",
   "mimetype": "text/x-python",
   "name": "python",
   "nbconvert_exporter": "python",
   "pygments_lexer": "ipython3",
   "version": "3.8.5"
  },
  "vscode": {
   "interpreter": {
    "hash": "dba4eb4192a401b10630bbfa25b7fb709bd78a83adcb3ebf371257b880947706"
   }
  }
 },
 "nbformat": 4,
 "nbformat_minor": 2
}
